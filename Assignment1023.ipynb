{
 "cells": [
  {
   "cell_type": "code",
   "execution_count": 7,
   "metadata": {},
   "outputs": [],
   "source": [
    "from math import pi, cos, sin\n",
    "𝜃 = pi / 4\n",
    "Statevector = [cos(𝜃 / 2), sin(𝜃 / 2)]\n",
    "Probabilities = [amplitude ** 2 for amplitude in Statevector]\n",
    "pass"
   ]
  },
  {
   "cell_type": "code",
   "execution_count": 12,
   "metadata": {},
   "outputs": [
    {
     "name": "stdout",
     "output_type": "stream",
     "text": [
      "[pi/4, sqrt(sqrt(2)/4 + 1/2), sqrt(1/2 - sqrt(2)/4), sqrt(2)/4 + 1/2, 1/2 - sqrt(2)/4]\n",
      "[0.785398163397448, 0.923879532511287, 0.382683432365090, 0.853553390593274, 0.146446609406726]\n"
     ]
    }
   ],
   "source": [
    "from sympy import pi, sin, cos, N\n",
    "𝜃 = pi / 4\n",
    "Statevector = [cos(𝜃 / 2), sin(𝜃 / 2)]\n",
    "Probabilities = [amplitude ** 2 for amplitude in Statevector]\n",
    "values = [𝜃] + Statevector + Probabilities\n",
    "print(values)\n",
    "print([N(x) for x in values])"
   ]
  }
 ],
 "metadata": {
  "kernelspec": {
   "display_name": "資訊安全與量子計算",
   "language": "python",
   "name": "python3"
  },
  "language_info": {
   "codemirror_mode": {
    "name": "ipython",
    "version": 3
   },
   "file_extension": ".py",
   "mimetype": "text/x-python",
   "name": "python",
   "nbconvert_exporter": "python",
   "pygments_lexer": "ipython3",
   "version": "3.11.9"
  }
 },
 "nbformat": 4,
 "nbformat_minor": 2
}
